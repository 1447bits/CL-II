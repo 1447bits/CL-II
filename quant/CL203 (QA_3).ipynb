{
 "cells": [
  {
   "cell_type": "markdown",
   "metadata": {},
   "source": [
    "# Implementation Quantum Teleportation algorithm in python \n",
    "----------"
   ]
  },
  {
   "cell_type": "code",
   "execution_count": 1,
   "metadata": {
    "colab": {
     "base_uri": "https://localhost:8080/"
    },
    "id": "NzKWyJYpeKOw",
    "outputId": "7b68f838-d64a-4f3d-9fdc-42c9b539f906"
   },
   "outputs": [
    {
     "name": "stdout",
     "output_type": "stream",
     "text": [
      "Requirement already satisfied: qiskit in /home/atharv/Downloads/practicals/QAI-IR/CL 2/.venv/lib/python3.12/site-packages (1.2.4)\n",
      "Requirement already satisfied: rustworkx>=0.15.0 in /home/atharv/Downloads/practicals/QAI-IR/CL 2/.venv/lib/python3.12/site-packages (from qiskit) (0.15.1)\n",
      "Requirement already satisfied: numpy<3,>=1.17 in /home/atharv/Downloads/practicals/QAI-IR/CL 2/.venv/lib/python3.12/site-packages (from qiskit) (2.1.3)\n",
      "Requirement already satisfied: scipy>=1.5 in /home/atharv/Downloads/practicals/QAI-IR/CL 2/.venv/lib/python3.12/site-packages (from qiskit) (1.14.1)\n",
      "Requirement already satisfied: sympy>=1.3 in /home/atharv/Downloads/practicals/QAI-IR/CL 2/.venv/lib/python3.12/site-packages (from qiskit) (1.13.3)\n",
      "Requirement already satisfied: dill>=0.3 in /home/atharv/Downloads/practicals/QAI-IR/CL 2/.venv/lib/python3.12/site-packages (from qiskit) (0.3.9)\n",
      "Requirement already satisfied: python-dateutil>=2.8.0 in /home/atharv/Downloads/practicals/QAI-IR/CL 2/.venv/lib/python3.12/site-packages (from qiskit) (2.9.0.post0)\n",
      "Requirement already satisfied: stevedore>=3.0.0 in /home/atharv/Downloads/practicals/QAI-IR/CL 2/.venv/lib/python3.12/site-packages (from qiskit) (5.3.0)\n",
      "Requirement already satisfied: typing-extensions in /home/atharv/Downloads/practicals/QAI-IR/CL 2/.venv/lib/python3.12/site-packages (from qiskit) (4.12.2)\n",
      "Requirement already satisfied: symengine<0.14,>=0.11 in /home/atharv/Downloads/practicals/QAI-IR/CL 2/.venv/lib/python3.12/site-packages (from qiskit) (0.13.0)\n",
      "Requirement already satisfied: six>=1.5 in /home/atharv/Downloads/practicals/QAI-IR/CL 2/.venv/lib/python3.12/site-packages (from python-dateutil>=2.8.0->qiskit) (1.16.0)\n",
      "Requirement already satisfied: pbr>=2.0.0 in /home/atharv/Downloads/practicals/QAI-IR/CL 2/.venv/lib/python3.12/site-packages (from stevedore>=3.0.0->qiskit) (6.1.0)\n",
      "Requirement already satisfied: mpmath<1.4,>=1.1.0 in /home/atharv/Downloads/practicals/QAI-IR/CL 2/.venv/lib/python3.12/site-packages (from sympy>=1.3->qiskit) (1.3.0)\n",
      "\n",
      "\u001b[1m[\u001b[0m\u001b[34;49mnotice\u001b[0m\u001b[1;39;49m]\u001b[0m\u001b[39;49m A new release of pip is available: \u001b[0m\u001b[31;49m24.2\u001b[0m\u001b[39;49m -> \u001b[0m\u001b[32;49m24.3.1\u001b[0m\n",
      "\u001b[1m[\u001b[0m\u001b[34;49mnotice\u001b[0m\u001b[1;39;49m]\u001b[0m\u001b[39;49m To update, run: \u001b[0m\u001b[32;49mpip install --upgrade pip\u001b[0m\n",
      "Note: you may need to restart the kernel to use updated packages.\n"
     ]
    }
   ],
   "source": [
    "pip install qiskit"
   ]
  },
  {
   "cell_type": "code",
   "execution_count": 2,
   "metadata": {
    "colab": {
     "base_uri": "https://localhost:8080/"
    },
    "id": "FNbhKVQEeRlz",
    "outputId": "643360b0-9dc7-4d93-8fbd-1bab38979f60"
   },
   "outputs": [
    {
     "name": "stdout",
     "output_type": "stream",
     "text": [
      "Requirement already satisfied: qiskit-aer in /home/atharv/Downloads/practicals/QAI-IR/CL 2/.venv/lib/python3.12/site-packages (0.15.1)\n",
      "Requirement already satisfied: qiskit>=1.1.0 in /home/atharv/Downloads/practicals/QAI-IR/CL 2/.venv/lib/python3.12/site-packages (from qiskit-aer) (1.2.4)\n",
      "Requirement already satisfied: numpy>=1.16.3 in /home/atharv/Downloads/practicals/QAI-IR/CL 2/.venv/lib/python3.12/site-packages (from qiskit-aer) (2.1.3)\n",
      "Requirement already satisfied: scipy>=1.0 in /home/atharv/Downloads/practicals/QAI-IR/CL 2/.venv/lib/python3.12/site-packages (from qiskit-aer) (1.14.1)\n",
      "Requirement already satisfied: psutil>=5 in /home/atharv/Downloads/practicals/QAI-IR/CL 2/.venv/lib/python3.12/site-packages (from qiskit-aer) (6.1.0)\n",
      "Requirement already satisfied: rustworkx>=0.15.0 in /home/atharv/Downloads/practicals/QAI-IR/CL 2/.venv/lib/python3.12/site-packages (from qiskit>=1.1.0->qiskit-aer) (0.15.1)\n",
      "Requirement already satisfied: sympy>=1.3 in /home/atharv/Downloads/practicals/QAI-IR/CL 2/.venv/lib/python3.12/site-packages (from qiskit>=1.1.0->qiskit-aer) (1.13.3)\n",
      "Requirement already satisfied: dill>=0.3 in /home/atharv/Downloads/practicals/QAI-IR/CL 2/.venv/lib/python3.12/site-packages (from qiskit>=1.1.0->qiskit-aer) (0.3.9)\n",
      "Requirement already satisfied: python-dateutil>=2.8.0 in /home/atharv/Downloads/practicals/QAI-IR/CL 2/.venv/lib/python3.12/site-packages (from qiskit>=1.1.0->qiskit-aer) (2.9.0.post0)\n",
      "Requirement already satisfied: stevedore>=3.0.0 in /home/atharv/Downloads/practicals/QAI-IR/CL 2/.venv/lib/python3.12/site-packages (from qiskit>=1.1.0->qiskit-aer) (5.3.0)\n",
      "Requirement already satisfied: typing-extensions in /home/atharv/Downloads/practicals/QAI-IR/CL 2/.venv/lib/python3.12/site-packages (from qiskit>=1.1.0->qiskit-aer) (4.12.2)\n",
      "Requirement already satisfied: symengine<0.14,>=0.11 in /home/atharv/Downloads/practicals/QAI-IR/CL 2/.venv/lib/python3.12/site-packages (from qiskit>=1.1.0->qiskit-aer) (0.13.0)\n",
      "Requirement already satisfied: six>=1.5 in /home/atharv/Downloads/practicals/QAI-IR/CL 2/.venv/lib/python3.12/site-packages (from python-dateutil>=2.8.0->qiskit>=1.1.0->qiskit-aer) (1.16.0)\n",
      "Requirement already satisfied: pbr>=2.0.0 in /home/atharv/Downloads/practicals/QAI-IR/CL 2/.venv/lib/python3.12/site-packages (from stevedore>=3.0.0->qiskit>=1.1.0->qiskit-aer) (6.1.0)\n",
      "Requirement already satisfied: mpmath<1.4,>=1.1.0 in /home/atharv/Downloads/practicals/QAI-IR/CL 2/.venv/lib/python3.12/site-packages (from sympy>=1.3->qiskit>=1.1.0->qiskit-aer) (1.3.0)\n",
      "\n",
      "\u001b[1m[\u001b[0m\u001b[34;49mnotice\u001b[0m\u001b[1;39;49m]\u001b[0m\u001b[39;49m A new release of pip is available: \u001b[0m\u001b[31;49m24.2\u001b[0m\u001b[39;49m -> \u001b[0m\u001b[32;49m24.3.1\u001b[0m\n",
      "\u001b[1m[\u001b[0m\u001b[34;49mnotice\u001b[0m\u001b[1;39;49m]\u001b[0m\u001b[39;49m To update, run: \u001b[0m\u001b[32;49mpip install --upgrade pip\u001b[0m\n",
      "Note: you may need to restart the kernel to use updated packages.\n"
     ]
    }
   ],
   "source": [
    "pip install qiskit-aer"
   ]
  },
  {
   "cell_type": "code",
   "execution_count": 3,
   "metadata": {
    "colab": {
     "base_uri": "https://localhost:8080/"
    },
    "id": "rjG-JZA7eWRr",
    "outputId": "452b9b1d-60b2-4fb5-e76f-435eb9166f27"
   },
   "outputs": [
    {
     "name": "stdout",
     "output_type": "stream",
     "text": [
      "Requirement already satisfied: pylatexenc in /home/atharv/Downloads/practicals/QAI-IR/CL 2/.venv/lib/python3.12/site-packages (2.10)\n",
      "\n",
      "\u001b[1m[\u001b[0m\u001b[34;49mnotice\u001b[0m\u001b[1;39;49m]\u001b[0m\u001b[39;49m A new release of pip is available: \u001b[0m\u001b[31;49m24.2\u001b[0m\u001b[39;49m -> \u001b[0m\u001b[32;49m24.3.1\u001b[0m\n",
      "\u001b[1m[\u001b[0m\u001b[34;49mnotice\u001b[0m\u001b[1;39;49m]\u001b[0m\u001b[39;49m To update, run: \u001b[0m\u001b[32;49mpip install --upgrade pip\u001b[0m\n"
     ]
    }
   ],
   "source": [
    "!pip install pylatexenc"
   ]
  },
  {
   "cell_type": "code",
   "execution_count": 4,
   "metadata": {
    "colab": {
     "base_uri": "https://localhost:8080/"
    },
    "id": "3ydnF02CeTA-",
    "outputId": "f3eff7cf-eeef-42f1-878a-cc70d7e003e1"
   },
   "outputs": [
    {
     "name": "stdout",
     "output_type": "stream",
     "text": [
      "Requirement already satisfied: qiskit-ibm-runtime in /home/atharv/Downloads/practicals/QAI-IR/CL 2/.venv/lib/python3.12/site-packages (0.32.0)\n",
      "Requirement already satisfied: requests>=2.19 in /home/atharv/Downloads/practicals/QAI-IR/CL 2/.venv/lib/python3.12/site-packages (from qiskit-ibm-runtime) (2.32.3)\n",
      "Requirement already satisfied: requests-ntlm>=1.1.0 in /home/atharv/Downloads/practicals/QAI-IR/CL 2/.venv/lib/python3.12/site-packages (from qiskit-ibm-runtime) (1.3.0)\n",
      "Requirement already satisfied: numpy>=1.13 in /home/atharv/Downloads/practicals/QAI-IR/CL 2/.venv/lib/python3.12/site-packages (from qiskit-ibm-runtime) (2.1.3)\n",
      "Requirement already satisfied: urllib3>=1.21.1 in /home/atharv/Downloads/practicals/QAI-IR/CL 2/.venv/lib/python3.12/site-packages (from qiskit-ibm-runtime) (2.2.3)\n",
      "Requirement already satisfied: python-dateutil>=2.8.0 in /home/atharv/Downloads/practicals/QAI-IR/CL 2/.venv/lib/python3.12/site-packages (from qiskit-ibm-runtime) (2.9.0.post0)\n",
      "Requirement already satisfied: websocket-client>=1.5.1 in /home/atharv/Downloads/practicals/QAI-IR/CL 2/.venv/lib/python3.12/site-packages (from qiskit-ibm-runtime) (1.8.0)\n",
      "Requirement already satisfied: ibm-platform-services>=0.22.6 in /home/atharv/Downloads/practicals/QAI-IR/CL 2/.venv/lib/python3.12/site-packages (from qiskit-ibm-runtime) (0.59.0)\n",
      "Requirement already satisfied: pydantic>=2.5.0 in /home/atharv/Downloads/practicals/QAI-IR/CL 2/.venv/lib/python3.12/site-packages (from qiskit-ibm-runtime) (2.9.2)\n",
      "Requirement already satisfied: qiskit>=1.1.0 in /home/atharv/Downloads/practicals/QAI-IR/CL 2/.venv/lib/python3.12/site-packages (from qiskit-ibm-runtime) (1.2.4)\n",
      "Requirement already satisfied: ibm-cloud-sdk-core<4.0.0,>=3.22.0 in /home/atharv/Downloads/practicals/QAI-IR/CL 2/.venv/lib/python3.12/site-packages (from ibm-platform-services>=0.22.6->qiskit-ibm-runtime) (3.22.0)\n",
      "Requirement already satisfied: annotated-types>=0.6.0 in /home/atharv/Downloads/practicals/QAI-IR/CL 2/.venv/lib/python3.12/site-packages (from pydantic>=2.5.0->qiskit-ibm-runtime) (0.7.0)\n",
      "Requirement already satisfied: pydantic-core==2.23.4 in /home/atharv/Downloads/practicals/QAI-IR/CL 2/.venv/lib/python3.12/site-packages (from pydantic>=2.5.0->qiskit-ibm-runtime) (2.23.4)\n",
      "Requirement already satisfied: typing-extensions>=4.6.1 in /home/atharv/Downloads/practicals/QAI-IR/CL 2/.venv/lib/python3.12/site-packages (from pydantic>=2.5.0->qiskit-ibm-runtime) (4.12.2)\n",
      "Requirement already satisfied: six>=1.5 in /home/atharv/Downloads/practicals/QAI-IR/CL 2/.venv/lib/python3.12/site-packages (from python-dateutil>=2.8.0->qiskit-ibm-runtime) (1.16.0)\n",
      "Requirement already satisfied: rustworkx>=0.15.0 in /home/atharv/Downloads/practicals/QAI-IR/CL 2/.venv/lib/python3.12/site-packages (from qiskit>=1.1.0->qiskit-ibm-runtime) (0.15.1)\n",
      "Requirement already satisfied: scipy>=1.5 in /home/atharv/Downloads/practicals/QAI-IR/CL 2/.venv/lib/python3.12/site-packages (from qiskit>=1.1.0->qiskit-ibm-runtime) (1.14.1)\n",
      "Requirement already satisfied: sympy>=1.3 in /home/atharv/Downloads/practicals/QAI-IR/CL 2/.venv/lib/python3.12/site-packages (from qiskit>=1.1.0->qiskit-ibm-runtime) (1.13.3)\n",
      "Requirement already satisfied: dill>=0.3 in /home/atharv/Downloads/practicals/QAI-IR/CL 2/.venv/lib/python3.12/site-packages (from qiskit>=1.1.0->qiskit-ibm-runtime) (0.3.9)\n",
      "Requirement already satisfied: stevedore>=3.0.0 in /home/atharv/Downloads/practicals/QAI-IR/CL 2/.venv/lib/python3.12/site-packages (from qiskit>=1.1.0->qiskit-ibm-runtime) (5.3.0)\n",
      "Requirement already satisfied: symengine<0.14,>=0.11 in /home/atharv/Downloads/practicals/QAI-IR/CL 2/.venv/lib/python3.12/site-packages (from qiskit>=1.1.0->qiskit-ibm-runtime) (0.13.0)\n",
      "Requirement already satisfied: charset-normalizer<4,>=2 in /home/atharv/Downloads/practicals/QAI-IR/CL 2/.venv/lib/python3.12/site-packages (from requests>=2.19->qiskit-ibm-runtime) (3.4.0)\n",
      "Requirement already satisfied: idna<4,>=2.5 in /home/atharv/Downloads/practicals/QAI-IR/CL 2/.venv/lib/python3.12/site-packages (from requests>=2.19->qiskit-ibm-runtime) (3.10)\n",
      "Requirement already satisfied: certifi>=2017.4.17 in /home/atharv/Downloads/practicals/QAI-IR/CL 2/.venv/lib/python3.12/site-packages (from requests>=2.19->qiskit-ibm-runtime) (2024.8.30)\n",
      "Requirement already satisfied: cryptography>=1.3 in /home/atharv/Downloads/practicals/QAI-IR/CL 2/.venv/lib/python3.12/site-packages (from requests-ntlm>=1.1.0->qiskit-ibm-runtime) (43.0.3)\n",
      "Requirement already satisfied: pyspnego>=0.4.0 in /home/atharv/Downloads/practicals/QAI-IR/CL 2/.venv/lib/python3.12/site-packages (from requests-ntlm>=1.1.0->qiskit-ibm-runtime) (0.11.1)\n",
      "Requirement already satisfied: cffi>=1.12 in /home/atharv/Downloads/practicals/QAI-IR/CL 2/.venv/lib/python3.12/site-packages (from cryptography>=1.3->requests-ntlm>=1.1.0->qiskit-ibm-runtime) (1.17.1)\n",
      "Requirement already satisfied: PyJWT<3.0.0,>=2.8.0 in /home/atharv/Downloads/practicals/QAI-IR/CL 2/.venv/lib/python3.12/site-packages (from ibm-cloud-sdk-core<4.0.0,>=3.22.0->ibm-platform-services>=0.22.6->qiskit-ibm-runtime) (2.9.0)\n",
      "Requirement already satisfied: pbr>=2.0.0 in /home/atharv/Downloads/practicals/QAI-IR/CL 2/.venv/lib/python3.12/site-packages (from stevedore>=3.0.0->qiskit>=1.1.0->qiskit-ibm-runtime) (6.1.0)\n",
      "Requirement already satisfied: mpmath<1.4,>=1.1.0 in /home/atharv/Downloads/practicals/QAI-IR/CL 2/.venv/lib/python3.12/site-packages (from sympy>=1.3->qiskit>=1.1.0->qiskit-ibm-runtime) (1.3.0)\n",
      "Requirement already satisfied: pycparser in /home/atharv/Downloads/practicals/QAI-IR/CL 2/.venv/lib/python3.12/site-packages (from cffi>=1.12->cryptography>=1.3->requests-ntlm>=1.1.0->qiskit-ibm-runtime) (2.22)\n",
      "\n",
      "\u001b[1m[\u001b[0m\u001b[34;49mnotice\u001b[0m\u001b[1;39;49m]\u001b[0m\u001b[39;49m A new release of pip is available: \u001b[0m\u001b[31;49m24.2\u001b[0m\u001b[39;49m -> \u001b[0m\u001b[32;49m24.3.1\u001b[0m\n",
      "\u001b[1m[\u001b[0m\u001b[34;49mnotice\u001b[0m\u001b[1;39;49m]\u001b[0m\u001b[39;49m To update, run: \u001b[0m\u001b[32;49mpip install --upgrade pip\u001b[0m\n"
     ]
    }
   ],
   "source": [
    "!pip install qiskit-ibm-runtime # install the missing module\n",
    "# Import necessary libraries\n",
    "from qiskit import QuantumCircuit, QuantumRegister, ClassicalRegister\n",
    "from qiskit_aer import Aer\n",
    "from qiskit.visualization import plot_histogram, circuit_drawer\n",
    "\n",
    "import numpy as np\n",
    "from qiskit_ibm_runtime import QiskitRuntimeService, Sampler # this should now work\n",
    "QiskitRuntimeService.save_account(token='141275b0005f54bb748ec04ba4a27e703803a4a1343847ba4eb8a21674fdb9359dae0f65ea378e883dad6756e4ec46c919e6eaf22c17fd08aa699acb0a6cea36',\n",
    "                                  channel='ibm_quantum',\n",
    "                                  overwrite = True)\n",
    "\n",
    "# Initialize IBM Quantum account\n",
    "\n",
    "service = QiskitRuntimeService()"
   ]
  },
  {
   "cell_type": "code",
   "execution_count": 5,
   "metadata": {
    "colab": {
     "base_uri": "https://localhost:8080/"
    },
    "id": "v1jCOchSeUha",
    "outputId": "af710979-f42e-4ae8-f088-81fe76e43e17"
   },
   "outputs": [
    {
     "name": "stdout",
     "output_type": "stream",
     "text": [
      "      ┌─────────────────┐ ░            ░      ┌───┐ ░ ┌─┐                    \n",
      " q_0: ┤ Initialize(0,1) ├─░────────────░───■──┤ H ├─░─┤M├────────────────────\n",
      "      └─────────────────┘ ░ ┌───┐      ░ ┌─┴─┐└───┘ ░ └╥┘┌─┐                 \n",
      " q_1: ────────────────────░─┤ H ├──■───░─┤ X ├──────░──╫─┤M├─────────────────\n",
      "                          ░ └───┘┌─┴─┐ ░ └───┘      ░  ║ └╥┘ ┌───┐  ┌───┐ ┌─┐\n",
      " q_2: ────────────────────░──────┤ X ├─░────────────░──╫──╫──┤ X ├──┤ Z ├─┤M├\n",
      "                          ░      └───┘ ░            ░  ║  ║  └─╥─┘  └─╥─┘ └╥┘\n",
      "                                                       ║  ║    ║   ┌──╨──┐ ║ \n",
      "c0: 1/═════════════════════════════════════════════════╩══╬════╬═══╡ 0x1 ╞═╬═\n",
      "                                                       0  ║ ┌──╨──┐└─────┘ ║ \n",
      "c1: 1/════════════════════════════════════════════════════╩═╡ 0x1 ╞════════╬═\n",
      "                                                          0 └─────┘        ║ \n",
      "c2: 1/═════════════════════════════════════════════════════════════════════╩═\n",
      "                                                                           0 \n",
      "Teleported state: {'1 1 1': 1}\n"
     ]
    }
   ],
   "source": [
    "# Import necessary libraries\n",
    "from qiskit import QuantumCircuit, QuantumRegister, ClassicalRegister\n",
    "from qiskit.visualization import plot_histogram\n",
    "from qiskit_aer import Aer\n",
    "from qiskit_ibm_runtime import QiskitRuntimeService, Sampler\n",
    "import matplotlib.pyplot as plt\n",
    "\n",
    "# Initialize IBM Quantum account\n",
    "service = QiskitRuntimeService(channel=\"ibm_quantum\")\n",
    "\n",
    "# Create the quantum circuit with 3 qubits and 3 classical bits\n",
    "q = QuantumRegister(3, 'q')  # Quantum register\n",
    "c0 = ClassicalRegister(1, 'c0')  # Classical register for Alice's measurement\n",
    "c1 = ClassicalRegister(1, 'c1')  # Classical register for Bob's measurement\n",
    "c2 = ClassicalRegister(1, 'c2')  # Classical register for the final state\n",
    "circuit = QuantumCircuit(q, c0, c1, c2)\n",
    "\n",
    "# Prepare the initial state to be teleported\n",
    "circuit.initialize([0, 1], q[0])  # Apply X gate to put in state |1>\n",
    "circuit.barrier()\n",
    "\n",
    "\n",
    "# Create an entanglement between Alice's and Bob's qubits\n",
    "circuit.h(q[1])        # Hadamard on q[1]\n",
    "circuit.cx(q[1], q[2])  # CNOT gate to entangle q[1] and q[2]\n",
    "circuit.barrier()\n",
    "\n",
    "# Teleportation process\n",
    "circuit.cx(q[0], q[1])  # CNOT between q[0] and q[1]\n",
    "circuit.h(q[0])         # Hadamard on q[0]\n",
    "circuit.barrier()\n",
    "\n",
    "# Measure Alice's qubits and send the measurement results to Bob\n",
    "circuit.measure(q[0], c0[0])  # Measure q[0] into c0\n",
    "circuit.measure(q[1], c1[0])  # Measure q[1] into c1\n",
    "\n",
    "# Apply corrective operations on Bob's qubit based on the measurement results\n",
    "circuit.x(q[2]).c_if(c1, 1)  # Apply X if Alice's second qubit (c1) is 1\n",
    "circuit.z(q[2]).c_if(c0, 1)  # Apply Z if Alice's first qubit (c0) is 1\n",
    "\n",
    "# Measure the teleported qubit\n",
    "circuit.measure(q[2], c2[0])  # Measure Bob's qubit into c2\n",
    "\n",
    "# Visualize the circuit\n",
    "print(circuit)\n",
    "circuit_drawer(circuit, output='mpl')\n",
    "\n",
    "# Simulate the circuit using the QASM simulator\n",
    "simulator = Aer.get_backend('qasm_simulator')\n",
    "job = simulator.run(circuit, shots=1)  # Run the circuit on the QASM simulator\n",
    "result = job.result()\n",
    "teleported_state = result.get_counts(circuit)  # Get the counts of the measurement results\n",
    "\n",
    "# Print the teleported state\n",
    "print(\"Teleported state:\", teleported_state)\n"
   ]
  },
  {
   "cell_type": "code",
   "execution_count": 6,
   "metadata": {
    "colab": {
     "base_uri": "https://localhost:8080/"
    },
    "id": "gDknr00MeZQf",
    "outputId": "99160ce8-735f-4149-f44d-2bc9f5347286"
   },
   "outputs": [
    {
     "name": "stdout",
     "output_type": "stream",
     "text": [
      "     ┌───┐┌──────┐┌─┐            \n",
      "q_0: ┤ X ├┤0     ├┤M├────────────\n",
      "     └───┘│      │└╥┘┌─┐         \n",
      "q_1: ─────┤1     ├─╫─┤M├─────────\n",
      "     ┌───┐│      │ ║ └╥┘┌─┐      \n",
      "q_2: ┤ X ├┤2 QFT ├─╫──╫─┤M├──────\n",
      "     └───┘│      │ ║  ║ └╥┘┌─┐   \n",
      "q_3: ─────┤3     ├─╫──╫──╫─┤M├───\n",
      "     ┌───┐│      │ ║  ║  ║ └╥┘┌─┐\n",
      "q_4: ┤ X ├┤4     ├─╫──╫──╫──╫─┤M├\n",
      "     └───┘└──────┘ ║  ║  ║  ║ └╥┘\n",
      "c: 5/══════════════╩══╩══╩══╩══╩═\n",
      "                   0  1  2  3  4 \n"
     ]
    }
   ],
   "source": [
    "from qiskit import QuantumRegister, ClassicalRegister, QuantumCircuit\n",
    "from qiskit.circuit.library import QFT\n",
    "import numpy as np\n",
    "\n",
    "# Define pi from numpy\n",
    "pi = np.pi\n",
    "\n",
    "# Define Quantum and Classical Registers\n",
    "q = QuantumRegister(5, 'q')\n",
    "c = ClassicalRegister(5, 'c')\n",
    "\n",
    "# Create Quantum Circuit\n",
    "circuit = QuantumCircuit(q, c)\n",
    "\n",
    "# Apply X gates on specific qubits\n",
    "circuit.x(q[4])\n",
    "circuit.x(q[2])\n",
    "circuit.x(q[0])\n",
    "\n",
    "# Apply the Quantum Fourier Transform (QFT)\n",
    "circuit.append(QFT(num_qubits=5), q)\n",
    "\n",
    "# Measure the qubits\n",
    "circuit.measure(q, c)\n",
    "\n",
    "# Draw the circuit\n",
    "circuit.draw(output='mpl', filename='qft1.png')\n",
    "\n",
    "# Print the circuit to console\n",
    "print(circuit)\n"
   ]
  },
  {
   "cell_type": "code",
   "execution_count": 7,
   "metadata": {
    "colab": {
     "base_uri": "https://localhost:8080/"
    },
    "id": "hxy7Mu5aekQm",
    "outputId": "6f7a19e6-20f8-46b7-f53e-c4a2738692fc"
   },
   "outputs": [
    {
     "name": "stdout",
     "output_type": "stream",
     "text": [
      "     ┌───┐┌──────┐┌─┐            \n",
      "q_0: ┤ X ├┤0     ├┤M├────────────\n",
      "     └───┘│      │└╥┘┌─┐         \n",
      "q_1: ─────┤1     ├─╫─┤M├─────────\n",
      "     ┌───┐│      │ ║ └╥┘┌─┐      \n",
      "q_2: ┤ X ├┤2 qft ├─╫──╫─┤M├──────\n",
      "     └───┘│      │ ║  ║ └╥┘┌─┐   \n",
      "q_3: ─────┤3     ├─╫──╫──╫─┤M├───\n",
      "     ┌───┐│      │ ║  ║  ║ └╥┘┌─┐\n",
      "q_4: ┤ X ├┤4     ├─╫──╫──╫──╫─┤M├\n",
      "     └───┘└──────┘ ║  ║  ║  ║ └╥┘\n",
      "c: 5/══════════════╩══╩══╩══╩══╩═\n",
      "                   0  1  2  3  4 \n",
      "     ┌───┐┌──────┐┌─┐            \n",
      "q_0: ┤ X ├┤0     ├┤M├────────────\n",
      "     └───┘│      │└╥┘┌─┐         \n",
      "q_1: ─────┤1     ├─╫─┤M├─────────\n",
      "     ┌───┐│      │ ║ └╥┘┌─┐      \n",
      "q_2: ┤ X ├┤2 qft ├─╫──╫─┤M├──────\n",
      "     └───┘│      │ ║  ║ └╥┘┌─┐   \n",
      "q_3: ─────┤3     ├─╫──╫──╫─┤M├───\n",
      "     ┌───┐│      │ ║  ║  ║ └╥┘┌─┐\n",
      "q_4: ┤ X ├┤4     ├─╫──╫──╫──╫─┤M├\n",
      "     └───┘└──────┘ ║  ║  ║  ║ └╥┘\n",
      "c: 5/══════════════╩══╩══╩══╩══╩═\n",
      "                   0  1  2  3  4 \n"
     ]
    }
   ],
   "source": [
    "from qiskit import QuantumRegister, ClassicalRegister, QuantumCircuit\n",
    "from qiskit.circuit.library import QFT\n",
    "import numpy as np\n",
    "\n",
    "# Define pi from numpy\n",
    "pi = np.pi\n",
    "\n",
    "# First circuit diagram\n",
    "q1 = QuantumRegister(5, 'q')\n",
    "c1 = ClassicalRegister(5, 'c')\n",
    "circuit1 = QuantumCircuit(q1, c1)\n",
    "\n",
    "circuit1.x(q1[4])\n",
    "circuit1.x(q1[2])\n",
    "circuit1.x(q1[0])\n",
    "circuit1.append(QFT(num_qubits=5, approximation_degree=0, do_swaps=True, inverse=False, insert_barriers=False, name='qft'), q1)\n",
    "circuit1.measure(q1, c1)\n",
    "\n",
    "# Draw the first circuit and save it as 'qft1.png'\n",
    "circuit1.draw(output='mpl', filename='qft1.png')\n",
    "\n",
    "# Print the first circuit\n",
    "print(circuit1)\n",
    "\n",
    "\n",
    "# Second circuit diagram\n",
    "q2 = QuantumRegister(5, 'q')\n",
    "c2 = ClassicalRegister(5, 'c')\n",
    "circuit2 = QuantumCircuit(q2, c2)\n",
    "\n",
    "circuit2.x(q2[4])\n",
    "circuit2.x(q2[2])\n",
    "circuit2.x(q2[0])\n",
    "circuit2.append(QFT(num_qubits=5, approximation_degree=0, do_swaps=True, inverse=False, insert_barriers=False, name='qft'), q2)\n",
    "circuit2.measure(q2, c2)\n",
    "\n",
    "# Draw the second circuit and save it as 'qft2.png'\n",
    "circuit2.draw(output='mpl', filename='qft2.png')\n",
    "\n",
    "# Print the second circuit\n",
    "print(circuit2)\n"
   ]
  },
  {
   "cell_type": "code",
   "execution_count": null,
   "metadata": {
    "id": "1Xll6Q_O-dV4"
   },
   "outputs": [],
   "source": []
  },
  {
   "cell_type": "code",
   "execution_count": null,
   "metadata": {},
   "outputs": [],
   "source": []
  }
 ],
 "metadata": {
  "colab": {
   "provenance": []
  },
  "kernelspec": {
   "display_name": "Python 3 (ipykernel)",
   "language": "python",
   "name": "python3"
  },
  "language_info": {
   "codemirror_mode": {
    "name": "ipython",
    "version": 3
   },
   "file_extension": ".py",
   "mimetype": "text/x-python",
   "name": "python",
   "nbconvert_exporter": "python",
   "pygments_lexer": "ipython3",
   "version": "3.12.7"
  }
 },
 "nbformat": 4,
 "nbformat_minor": 4
}
