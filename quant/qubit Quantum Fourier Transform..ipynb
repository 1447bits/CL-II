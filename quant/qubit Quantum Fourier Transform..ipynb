{
  "cells": [
    {
      "cell_type": "code",
      "execution_count": 1,
      "metadata": {
        "colab": {
          "base_uri": "https://localhost:8080/"
        },
        "collapsed": true,
        "id": "InxVmKKNZ-r3",
        "outputId": "3c6ab35c-5275-48a1-bd2d-5b3191a13a88"
      },
      "outputs": [
        {
          "name": "stdout",
          "output_type": "stream",
          "text": [
            "Requirement already satisfied: qiskit in /home/atharv/Downloads/practicals/QAI-IR/CL 2/.venv/lib/python3.12/site-packages (1.2.4)\n",
            "Requirement already satisfied: rustworkx>=0.15.0 in /home/atharv/Downloads/practicals/QAI-IR/CL 2/.venv/lib/python3.12/site-packages (from qiskit) (0.15.1)\n",
            "Requirement already satisfied: numpy<3,>=1.17 in /home/atharv/Downloads/practicals/QAI-IR/CL 2/.venv/lib/python3.12/site-packages (from qiskit) (2.1.3)\n",
            "Requirement already satisfied: scipy>=1.5 in /home/atharv/Downloads/practicals/QAI-IR/CL 2/.venv/lib/python3.12/site-packages (from qiskit) (1.14.1)\n",
            "Requirement already satisfied: sympy>=1.3 in /home/atharv/Downloads/practicals/QAI-IR/CL 2/.venv/lib/python3.12/site-packages (from qiskit) (1.13.3)\n",
            "Requirement already satisfied: dill>=0.3 in /home/atharv/Downloads/practicals/QAI-IR/CL 2/.venv/lib/python3.12/site-packages (from qiskit) (0.3.9)\n",
            "Requirement already satisfied: python-dateutil>=2.8.0 in /home/atharv/Downloads/practicals/QAI-IR/CL 2/.venv/lib/python3.12/site-packages (from qiskit) (2.9.0.post0)\n",
            "Requirement already satisfied: stevedore>=3.0.0 in /home/atharv/Downloads/practicals/QAI-IR/CL 2/.venv/lib/python3.12/site-packages (from qiskit) (5.3.0)\n",
            "Requirement already satisfied: typing-extensions in /home/atharv/Downloads/practicals/QAI-IR/CL 2/.venv/lib/python3.12/site-packages (from qiskit) (4.12.2)\n",
            "Requirement already satisfied: symengine<0.14,>=0.11 in /home/atharv/Downloads/practicals/QAI-IR/CL 2/.venv/lib/python3.12/site-packages (from qiskit) (0.13.0)\n",
            "Requirement already satisfied: six>=1.5 in /home/atharv/Downloads/practicals/QAI-IR/CL 2/.venv/lib/python3.12/site-packages (from python-dateutil>=2.8.0->qiskit) (1.16.0)\n",
            "Requirement already satisfied: pbr>=2.0.0 in /home/atharv/Downloads/practicals/QAI-IR/CL 2/.venv/lib/python3.12/site-packages (from stevedore>=3.0.0->qiskit) (6.1.0)\n",
            "Requirement already satisfied: mpmath<1.4,>=1.1.0 in /home/atharv/Downloads/practicals/QAI-IR/CL 2/.venv/lib/python3.12/site-packages (from sympy>=1.3->qiskit) (1.3.0)\n",
            "\n",
            "\u001b[1m[\u001b[0m\u001b[34;49mnotice\u001b[0m\u001b[1;39;49m]\u001b[0m\u001b[39;49m A new release of pip is available: \u001b[0m\u001b[31;49m24.2\u001b[0m\u001b[39;49m -> \u001b[0m\u001b[32;49m24.3.1\u001b[0m\n",
            "\u001b[1m[\u001b[0m\u001b[34;49mnotice\u001b[0m\u001b[1;39;49m]\u001b[0m\u001b[39;49m To update, run: \u001b[0m\u001b[32;49mpip install --upgrade pip\u001b[0m\n"
          ]
        }
      ],
      "source": [
        "!pip install qiskit"
      ]
    },
    {
      "cell_type": "code",
      "execution_count": 2,
      "metadata": {
        "colab": {
          "base_uri": "https://localhost:8080/"
        },
        "collapsed": true,
        "id": "R7CMIHUfZ_q2",
        "outputId": "57edbaee-eae9-4847-cb2a-2e756eac1d03"
      },
      "outputs": [
        {
          "name": "stdout",
          "output_type": "stream",
          "text": [
            "Requirement already satisfied: qiskit-aer in /home/atharv/Downloads/practicals/QAI-IR/CL 2/.venv/lib/python3.12/site-packages (0.15.1)\n",
            "Requirement already satisfied: qiskit>=1.1.0 in /home/atharv/Downloads/practicals/QAI-IR/CL 2/.venv/lib/python3.12/site-packages (from qiskit-aer) (1.2.4)\n",
            "Requirement already satisfied: numpy>=1.16.3 in /home/atharv/Downloads/practicals/QAI-IR/CL 2/.venv/lib/python3.12/site-packages (from qiskit-aer) (2.1.3)\n",
            "Requirement already satisfied: scipy>=1.0 in /home/atharv/Downloads/practicals/QAI-IR/CL 2/.venv/lib/python3.12/site-packages (from qiskit-aer) (1.14.1)\n",
            "Requirement already satisfied: psutil>=5 in /home/atharv/Downloads/practicals/QAI-IR/CL 2/.venv/lib/python3.12/site-packages (from qiskit-aer) (6.1.0)\n",
            "Requirement already satisfied: rustworkx>=0.15.0 in /home/atharv/Downloads/practicals/QAI-IR/CL 2/.venv/lib/python3.12/site-packages (from qiskit>=1.1.0->qiskit-aer) (0.15.1)\n",
            "Requirement already satisfied: sympy>=1.3 in /home/atharv/Downloads/practicals/QAI-IR/CL 2/.venv/lib/python3.12/site-packages (from qiskit>=1.1.0->qiskit-aer) (1.13.3)\n",
            "Requirement already satisfied: dill>=0.3 in /home/atharv/Downloads/practicals/QAI-IR/CL 2/.venv/lib/python3.12/site-packages (from qiskit>=1.1.0->qiskit-aer) (0.3.9)\n",
            "Requirement already satisfied: python-dateutil>=2.8.0 in /home/atharv/Downloads/practicals/QAI-IR/CL 2/.venv/lib/python3.12/site-packages (from qiskit>=1.1.0->qiskit-aer) (2.9.0.post0)\n",
            "Requirement already satisfied: stevedore>=3.0.0 in /home/atharv/Downloads/practicals/QAI-IR/CL 2/.venv/lib/python3.12/site-packages (from qiskit>=1.1.0->qiskit-aer) (5.3.0)\n",
            "Requirement already satisfied: typing-extensions in /home/atharv/Downloads/practicals/QAI-IR/CL 2/.venv/lib/python3.12/site-packages (from qiskit>=1.1.0->qiskit-aer) (4.12.2)\n",
            "Requirement already satisfied: symengine<0.14,>=0.11 in /home/atharv/Downloads/practicals/QAI-IR/CL 2/.venv/lib/python3.12/site-packages (from qiskit>=1.1.0->qiskit-aer) (0.13.0)\n",
            "Requirement already satisfied: six>=1.5 in /home/atharv/Downloads/practicals/QAI-IR/CL 2/.venv/lib/python3.12/site-packages (from python-dateutil>=2.8.0->qiskit>=1.1.0->qiskit-aer) (1.16.0)\n",
            "Requirement already satisfied: pbr>=2.0.0 in /home/atharv/Downloads/practicals/QAI-IR/CL 2/.venv/lib/python3.12/site-packages (from stevedore>=3.0.0->qiskit>=1.1.0->qiskit-aer) (6.1.0)\n",
            "Requirement already satisfied: mpmath<1.4,>=1.1.0 in /home/atharv/Downloads/practicals/QAI-IR/CL 2/.venv/lib/python3.12/site-packages (from sympy>=1.3->qiskit>=1.1.0->qiskit-aer) (1.3.0)\n",
            "\n",
            "\u001b[1m[\u001b[0m\u001b[34;49mnotice\u001b[0m\u001b[1;39;49m]\u001b[0m\u001b[39;49m A new release of pip is available: \u001b[0m\u001b[31;49m24.2\u001b[0m\u001b[39;49m -> \u001b[0m\u001b[32;49m24.3.1\u001b[0m\n",
            "\u001b[1m[\u001b[0m\u001b[34;49mnotice\u001b[0m\u001b[1;39;49m]\u001b[0m\u001b[39;49m To update, run: \u001b[0m\u001b[32;49mpip install --upgrade pip\u001b[0m\n"
          ]
        }
      ],
      "source": [
        "!pip install qiskit-aer"
      ]
    },
    {
      "cell_type": "code",
      "execution_count": 3,
      "metadata": {
        "colab": {
          "base_uri": "https://localhost:8080/"
        },
        "collapsed": true,
        "id": "EbKQSiPtafl0",
        "outputId": "3b93a1e6-627a-44c6-f397-85c9fc6ce984"
      },
      "outputs": [
        {
          "name": "stdout",
          "output_type": "stream",
          "text": [
            "Requirement already satisfied: pylatexenc in /home/atharv/Downloads/practicals/QAI-IR/CL 2/.venv/lib/python3.12/site-packages (2.10)\n",
            "\n",
            "\u001b[1m[\u001b[0m\u001b[34;49mnotice\u001b[0m\u001b[1;39;49m]\u001b[0m\u001b[39;49m A new release of pip is available: \u001b[0m\u001b[31;49m24.2\u001b[0m\u001b[39;49m -> \u001b[0m\u001b[32;49m24.3.1\u001b[0m\n",
            "\u001b[1m[\u001b[0m\u001b[34;49mnotice\u001b[0m\u001b[1;39;49m]\u001b[0m\u001b[39;49m To update, run: \u001b[0m\u001b[32;49mpip install --upgrade pip\u001b[0m\n"
          ]
        }
      ],
      "source": [
        "!pip install pylatexenc"
      ]
    },
    {
      "cell_type": "code",
      "execution_count": 4,
      "metadata": {
        "colab": {
          "base_uri": "https://localhost:8080/"
        },
        "id": "rtMONX0Vb0O1",
        "outputId": "450f3a8c-9b47-4dc2-9a21-1cd82011bcb2"
      },
      "outputs": [
        {
          "name": "stdout",
          "output_type": "stream",
          "text": [
            "Requirement already satisfied: pylatexenc in /home/atharv/Downloads/practicals/QAI-IR/CL 2/.venv/lib/python3.12/site-packages (2.10)\n",
            "\n",
            "\u001b[1m[\u001b[0m\u001b[34;49mnotice\u001b[0m\u001b[1;39;49m]\u001b[0m\u001b[39;49m A new release of pip is available: \u001b[0m\u001b[31;49m24.2\u001b[0m\u001b[39;49m -> \u001b[0m\u001b[32;49m24.3.1\u001b[0m\n",
            "\u001b[1m[\u001b[0m\u001b[34;49mnotice\u001b[0m\u001b[1;39;49m]\u001b[0m\u001b[39;49m To update, run: \u001b[0m\u001b[32;49mpip install --upgrade pip\u001b[0m\n"
          ]
        }
      ],
      "source": [
        "!pip install pylatexenc"
      ]
    },
    {
      "cell_type": "code",
      "execution_count": 5,
      "metadata": {
        "colab": {
          "base_uri": "https://localhost:8080/"
        },
        "id": "bpMFJENTaQeP",
        "outputId": "20e9edd0-d866-4c6b-cacb-1dcdbad6d59d"
      },
      "outputs": [
        {
          "name": "stdout",
          "output_type": "stream",
          "text": [
            "     ┌───┐┌──────┐┌─┐            \n",
            "q_0: ┤ X ├┤0     ├┤M├────────────\n",
            "     └───┘│      │└╥┘┌─┐         \n",
            "q_1: ─────┤1     ├─╫─┤M├─────────\n",
            "     ┌───┐│      │ ║ └╥┘┌─┐      \n",
            "q_2: ┤ X ├┤2 qft ├─╫──╫─┤M├──────\n",
            "     └───┘│      │ ║  ║ └╥┘┌─┐   \n",
            "q_3: ─────┤3     ├─╫──╫──╫─┤M├───\n",
            "     ┌───┐│      │ ║  ║  ║ └╥┘┌─┐\n",
            "q_4: ┤ X ├┤4     ├─╫──╫──╫──╫─┤M├\n",
            "     └───┘└──────┘ ║  ║  ║  ║ └╥┘\n",
            "c: 5/══════════════╩══╩══╩══╩══╩═\n",
            "                   0  1  2  3  4 \n",
            "\n",
            "QFT Output\n",
            "-------------\n",
            "{'01001': 32, '11010': 24, '00100': 20, '10010': 32, '11100': 38, '10101': 39, '10110': 22, '01111': 32, '01110': 25, '10011': 31, '10001': 33, '00101': 33, '11101': 37, '01011': 27, '10111': 24, '10100': 39, '10000': 30, '11011': 35, '11111': 36, '11000': 35, '00010': 34, '11001': 31, '00000': 30, '00001': 31, '00110': 34, '01100': 30, '01000': 35, '01010': 19, '00011': 32, '00111': 46, '11110': 26, '01101': 28}\n",
            "     ┌───┐┌──────────────┐┌─┐            \n",
            "q_0: ┤ X ├┤0             ├┤M├────────────\n",
            "     └───┘│              │└╥┘┌─┐         \n",
            "q_1: ─────┤1             ├─╫─┤M├─────────\n",
            "     ┌───┐│              │ ║ └╥┘┌─┐      \n",
            "q_2: ┤ X ├┤2 inverse_qft ├─╫──╫─┤M├──────\n",
            "     └───┘│              │ ║  ║ └╥┘┌─┐   \n",
            "q_3: ─────┤3             ├─╫──╫──╫─┤M├───\n",
            "     ┌───┐│              │ ║  ║  ║ └╥┘┌─┐\n",
            "q_4: ┤ X ├┤4             ├─╫──╫──╫──╫─┤M├\n",
            "     └───┘└──────────────┘ ║  ║  ║  ║ └╥┘\n",
            "c: 5/══════════════════════╩══╩══╩══╩══╩═\n",
            "                           0  1  2  3  4 \n",
            "\n",
            "QFT with inverse QFT Output\n",
            "------------------------------\n",
            "{'01010': 33, '10001': 34, '01101': 35, '11110': 32, '10101': 32, '10010': 38, '11100': 28, '11101': 32, '01000': 20, '01100': 23, '10000': 33, '00000': 31, '11001': 27, '11000': 32, '11011': 36, '11111': 28, '11010': 27, '00101': 29, '01001': 30, '01110': 34, '10011': 22, '00111': 27, '00011': 34, '10111': 25, '10100': 36, '01011': 36, '00100': 35, '10110': 22, '00001': 37, '00110': 43, '01111': 40, '00010': 29}\n"
          ]
        }
      ],
      "source": [
        "from qiskit import QuantumRegister, ClassicalRegister, QuantumCircuit, transpile\n",
        "from qiskit_aer import Aer  # Corrected import for Aer simulator\n",
        "from qiskit.circuit.library import QFT\n",
        "import numpy as np\n",
        "\n",
        "# Use Aer simulator backend\n",
        "backend = Aer.get_backend('qasm_simulator')\n",
        "\n",
        "# Define pi constant\n",
        "pi = np.pi\n",
        "\n",
        "# Create Quantum and Classical Registers\n",
        "q = QuantumRegister(5, 'q')\n",
        "c = ClassicalRegister(5, 'c')\n",
        "\n",
        "# Create Quantum Circuit\n",
        "circuit = QuantumCircuit(q, c)\n",
        "\n",
        "# Apply some X gates\n",
        "circuit.x(q[4])\n",
        "circuit.x(q[2])\n",
        "circuit.x(q[0])\n",
        "\n",
        "# Apply Quantum Fourier Transform (QFT)\n",
        "circuit.append(QFT(num_qubits=5, approximation_degree=0, do_swaps=True, inverse=False, insert_barriers=False, name='qft'), q)\n",
        "\n",
        "# Measure the quantum register\n",
        "circuit.measure(q, c)\n",
        "\n",
        "# Draw the circuit\n",
        "circuit.draw(output='mpl', filename='qft1.png')\n",
        "\n",
        "print(circuit)\n",
        "\n",
        "# Transpile the circuit for the Aer backend\n",
        "transpiled_circuit = transpile(circuit, backend)\n",
        "\n",
        "# Execute the circuit\n",
        "job = backend.run(transpiled_circuit, shots=1000)\n",
        "\n",
        "# Get the results\n",
        "result = job.result()\n",
        "counts = result.get_counts()\n",
        "\n",
        "# Display the QFT output\n",
        "print(\"\\nQFT Output\")\n",
        "print(\"-------------\")\n",
        "print(counts)\n",
        "\n",
        "# Second Circuit: Apply Inverse QFT\n",
        "q = QuantumRegister(5, 'q')\n",
        "c = ClassicalRegister(5, 'c')\n",
        "\n",
        "circuit = QuantumCircuit(q, c)\n",
        "\n",
        "# Apply the same X gates as before\n",
        "circuit.x(q[4])\n",
        "circuit.x(q[2])\n",
        "circuit.x(q[0])\n",
        "\n",
        "# Apply Quantum Fourier Transform (QFT)\n",
        "circuit.append(QFT(num_qubits=5, approximation_degree=0, do_swaps=True, inverse=True, insert_barriers=False, name='inverse_qft'), q)\n",
        "\n",
        "# Measure the quantum register\n",
        "circuit.measure(q, c)\n",
        "\n",
        "# Draw the second circuit\n",
        "circuit.draw(output='mpl', filename='qft2.png')\n",
        "\n",
        "print(circuit)\n",
        "\n",
        "# Transpile the second circuit for the Aer backend\n",
        "transpiled_circuit = transpile(circuit, backend)\n",
        "\n",
        "# Execute the second circuit\n",
        "job = backend.run(transpiled_circuit, shots=1000)\n",
        "\n",
        "# Get the results for the second job\n",
        "result = job.result()\n",
        "counts = result.get_counts()\n",
        "\n",
        "# Display the QFT with inverse QFT output\n",
        "print(\"\\nQFT with inverse QFT Output\")\n",
        "print(\"------------------------------\")\n",
        "print(counts)\n"
      ]
    },
    {
      "cell_type": "code",
      "execution_count": 5,
      "metadata": {
        "id": "AcMPNTM3bHeA"
      },
      "outputs": [],
      "source": []
    }
  ],
  "metadata": {
    "colab": {
      "provenance": []
    },
    "kernelspec": {
      "display_name": "Python 3",
      "name": "python3"
    },
    "language_info": {
      "codemirror_mode": {
        "name": "ipython",
        "version": 3
      },
      "file_extension": ".py",
      "mimetype": "text/x-python",
      "name": "python",
      "nbconvert_exporter": "python",
      "pygments_lexer": "ipython3",
      "version": "3.12.7"
    }
  },
  "nbformat": 4,
  "nbformat_minor": 0
}
