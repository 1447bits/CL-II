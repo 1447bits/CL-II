{
  "cells": [
    {
      "cell_type": "markdown",
      "id": "e8d5cdcb",
      "metadata": {},
      "source": [
        "# Assignment 1\n",
        "\n",
        "Write a program for pre-processing of a text document such as stop word removal, stemming."
      ]
    },
    {
      "cell_type": "code",
      "execution_count": 4,
      "id": "5c9998a3",
      "metadata": {
        "colab": {
          "base_uri": "https://localhost:8080/"
        },
        "id": "5c9998a3",
        "outputId": "cd9bc941-f075-4478-d5f8-8d09e6ac68ef"
      },
      "outputs": [
        {
          "name": "stdout",
          "output_type": "stream",
          "text": [
            "Requirement already satisfied: nltk in /home/atharv/Downloads/practicals/QAI-IR/CL 2/.venv/lib/python3.12/site-packages (3.9.1)\n",
            "Requirement already satisfied: click in /home/atharv/Downloads/practicals/QAI-IR/CL 2/.venv/lib/python3.12/site-packages (from nltk) (8.1.7)\n",
            "Requirement already satisfied: joblib in /home/atharv/Downloads/practicals/QAI-IR/CL 2/.venv/lib/python3.12/site-packages (from nltk) (1.4.2)\n",
            "Requirement already satisfied: regex>=2021.8.3 in /home/atharv/Downloads/practicals/QAI-IR/CL 2/.venv/lib/python3.12/site-packages (from nltk) (2024.9.11)\n",
            "Requirement already satisfied: tqdm in /home/atharv/Downloads/practicals/QAI-IR/CL 2/.venv/lib/python3.12/site-packages (from nltk) (4.66.6)\n",
            "\n",
            "\u001b[1m[\u001b[0m\u001b[34;49mnotice\u001b[0m\u001b[1;39;49m]\u001b[0m\u001b[39;49m A new release of pip is available: \u001b[0m\u001b[31;49m24.2\u001b[0m\u001b[39;49m -> \u001b[0m\u001b[32;49m24.3.1\u001b[0m\n",
            "\u001b[1m[\u001b[0m\u001b[34;49mnotice\u001b[0m\u001b[1;39;49m]\u001b[0m\u001b[39;49m To update, run: \u001b[0m\u001b[32;49mpip install --upgrade pip\u001b[0m\n"
          ]
        }
      ],
      "source": [
        "! pip install nltk"
      ]
    },
    {
      "cell_type": "code",
      "execution_count": null,
      "id": "b5b2db6e",
      "metadata": {},
      "outputs": [],
      "source": [
        "import nltk\n",
        "from nltk.corpus import stopwords\n",
        "from nltk.stem import PorterStemmer\n",
        "import string\n",
        "\n",
        "# Ensure that required NLTK resources are downloaded\n",
        "nltk.download('punkt')        # Tokenizer models\n",
        "nltk.download('stopwords')    # Stopwords list\n",
        "\n",
        "def preprocess_text(text):\n",
        "    # Initialize the stemmer and get the list of stop words\n",
        "    stemmer = PorterStemmer()\n",
        "    stop_words = set(stopwords.words('english'))\n",
        "\n",
        "    # Tokenize the text into words\n",
        "    words = nltk.word_tokenize(text)\n",
        "\n",
        "    # Preprocess the words: remove punctuation, stop words and stem\n",
        "    processed_words = []\n",
        "    for word in words:\n",
        "        word = word.lower()  # Convert to lowercase\n",
        "        word = word.strip(string.punctuation)  # Remove punctuation\n",
        "        if word and word not in stop_words:  # Check if it's not a stop word\n",
        "            stemmed_word = stemmer.stem(word)  # Stem the word\n",
        "            processed_words.append(stemmed_word)\n",
        "\n",
        "    return processed_words\n",
        "\n",
        "# Example text\n",
        "sample_text = \"This is a sample text for preprocessing! The text contains some stop words.\"\n",
        "\n",
        "# Call the preprocessing function\n",
        "processed = preprocess_text(sample_text)\n",
        "\n",
        "# Output the processed words\n",
        "print(\"Processed Words:\", processed)\n"
      ]
    }
  ],
  "metadata": {
    "colab": {
      "provenance": []
    },
    "kernelspec": {
      "display_name": "Python 3 (ipykernel)",
      "language": "python",
      "name": "python3"
    },
    "language_info": {
      "codemirror_mode": {
        "name": "ipython",
        "version": 3
      },
      "file_extension": ".py",
      "mimetype": "text/x-python",
      "name": "python",
      "nbconvert_exporter": "python",
      "pygments_lexer": "ipython3",
      "version": "3.12.7"
    }
  },
  "nbformat": 4,
  "nbformat_minor": 5
}
