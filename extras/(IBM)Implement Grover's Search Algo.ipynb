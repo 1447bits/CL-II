{
 "cells": [
  {
   "cell_type": "code",
   "execution_count": 1,
   "id": "41df8a4c-2c5f-4e08-90fd-fa6c1164f0ec",
   "metadata": {
    "tags": []
   },
   "outputs": [],
   "source": [
    "# Importing standard Qiskit libraries\n",
    "from qiskit import QuantumCircuit, transpile\n",
    "from qiskit.tools.jupyter import *\n",
    "from qiskit.visualization import *\n",
    "from ibm_quantum_widgets import *\n",
    "\n",
    "# qiskit-ibmq-provider has been deprecated.\n",
    "# Please see the Migration Guides in https://ibm.biz/provider_migration_guide for more detail.\n",
    "from qiskit_ibm_runtime import QiskitRuntimeService, Sampler, Estimator, Session, Options\n",
    "\n",
    "# Loading your IBM Quantum account(s)\n",
    "service = QiskitRuntimeService(channel=\"ibm_quantum\")\n",
    "\n",
    "# Invoke a primitive. For more details see https://qiskit.org/documentation/partners/qiskit_ibm_runtime/tutorials.html\n",
    "# result = Sampler(\"ibmq_qasm_simulator\").run(circuits).result()"
   ]
  },
  {
   "cell_type": "code",
   "execution_count": 3,
   "id": "faa8173c-886b-4de3-b736-b56676349cc8",
   "metadata": {
    "tags": []
   },
   "outputs": [
    {
     "name": "stderr",
     "output_type": "stream",
     "text": [
      "configrc.store_credentials:WARNING:2023-07-13 17:13:31,763: Credentials already present. Set overwrite=True to overwrite.\n",
      "ibmqfactory.load_account:WARNING:2023-07-13 17:13:31,842: Credentials are already in use. The existing account in the session will be replaced.\n"
     ]
    },
    {
     "name": "stdout",
     "output_type": "stream",
     "text": [
      "Job Status: job has successfully run\n",
      "{'001': 118, '101': 132, '000': 114, '011': 124, '111': 123, '010': 127, '100': 142, '110': 120}\n"
     ]
    },
    {
     "data": {
      "image/png": "[encoded data removed]",
      "text/plain": [
       "<Figure size 700x500 with 1 Axes>"
      ]
     },
     "execution_count": 3,
     "metadata": {},
     "output_type": "execute_result"
    }
   ],
   "source": [
    "import numpy as np\n",
    "from qiskit import QuantumCircuit, transpile, assemble, IBMQ, execute\n",
    "from qiskit.visualization import plot_histogram\n",
    "from qiskit.tools.monitor import job_monitor\n",
    "\n",
    "\n",
    "def initialize_state(qc, qubits):\n",
    "    qc.h(qubits)  # Apply Hadamard gate to all qubits\n",
    "    qc.z(qubits)  # Apply Z gate to all qubits\n",
    "\n",
    "def oracle(qc, qubits, marked_item):\n",
    "    qc.barrier()\n",
    "    marked_item = marked_item[::-1]  # Reverse the order of the marked item\n",
    "    for i in range(len(marked_item)):\n",
    "        if marked_item[i] == '1':\n",
    "            qc.cx(qubits[i], qubits[-1])  # Apply CNOT gate if marked bit is 1\n",
    "    qc.barrier()\n",
    "\n",
    "def diffusion(qc, qubits):\n",
    "    qc.h(qubits[:-1])  # Apply Hadamard gate to all qubits except the last one\n",
    "    qc.x(qubits[:-1])  # Apply X gate to all qubits except the last one\n",
    "    qc.h(qubits[-2])   # Apply Hadamard gate to the second-to-last qubit\n",
    "    qc.cx(qubits[0], qubits[-2])  # Apply CNOT gate with control on the first qubit and target on the second-to-last qubit\n",
    "    qc.h(qubits[-2])   # Apply Hadamard gate to the second-to-last qubit\n",
    "    qc.x(qubits[:-1])  # Apply X gate to all qubits except the last one\n",
    "    qc.h(qubits[:-1])  # Apply Hadamard gate to all qubits except the last one\n",
    "\n",
    "def grovers_search(num_iterations, marked_item):\n",
    "    num_qubits = len(marked_item)\n",
    "    qubits = range(num_qubits + 1)\n",
    "    qc = QuantumCircuit(num_qubits + 1, num_qubits)\n",
    "    initialize_state(qc, qubits)\n",
    "    for _ in range(num_iterations):\n",
    "        oracle(qc, qubits, marked_item)\n",
    "        diffusion(qc, qubits)\n",
    "    qc.measure(qubits[:-1], range(num_qubits))\n",
    "\n",
    "    provider = IBMQ.get_provider(hub='ibm-q')\n",
    "    backend = provider.get_backend('ibmq_qasm_simulator')\n",
    "    transpiled_circuit = transpile(qc, backend)\n",
    "    qobj = assemble(transpiled_circuit, shots=1000)\n",
    "\n",
    "    job = backend.run(qobj)\n",
    "    job_monitor(job)\n",
    "\n",
    "    result = job.result()\n",
    "    counts = result.get_counts(qc)\n",
    "\n",
    "    return counts\n",
    "\n",
    "# Load your IBM Quantum account\n",
    "IBMQ.save_account('65623006e3ded7f0ffb828ecf50170dadb7583d4a0e458803a0471339c49019b1ad12d5d1794c8ff59543ef4db55583f12226f5c9951f2129f77096895a335e7')\n",
    "IBMQ.load_account()\n",
    "\n",
    "# Example usage\n",
    "marked_item = '011'  # Item to be marked as '1' in the database\n",
    "num_iterations = 2  # Replace with the desired number of iterations\n",
    "\n",
    "counts = grovers_search(num_iterations, marked_item)\n",
    "\n",
    "# Visualize the measurement results\n",
    "plot = plot_histogram(counts, title=\"Measurement Outcomes\")\n",
    "\n",
    "# Save the plot as an image file\n",
    "plot.savefig(\"histogram.png\")\n",
    "\n",
    "# Print the measurement results\n",
    "print(counts)\n",
    "\n",
    "plot_histogram(counts, title=\"Measurement Outcomes\")\n"
   ]
  },
  {
   "cell_type": "code",
   "execution_count": null,
   "id": "02639314-2fda-49ef-845f-04865d8fe342",
   "metadata": {},
   "outputs": [],
   "source": []
  }
 ],
 "metadata": {
  "kernelspec": {
   "display_name": "Python 3 (ipykernel)",
   "language": "python",
   "name": "python3"
  },
  "language_info": {
   "codemirror_mode": {
    "name": "ipython",
    "version": 3
   },
   "file_extension": ".py",
   "mimetype": "text/x-python",
   "name": "python",
   "nbconvert_exporter": "python",
   "pygments_lexer": "ipython3",
   "version": "3.10.8"
  },
  "widgets": {
   "application/vnd.jupyter.widget-state+json": {
    "state": {
     "05e2ae9cf4944e7f865dfa5472b5053b": {
      "model_module": "@jupyter-widgets/base",
      "model_module_version": "2.0.0",
      "model_name": "LayoutModel",
      "state": {
       "width": "95px"
      }
     },
     "07b9dc841655456db6f0ed7737b0fa92": {
      "model_module": "@jupyter-widgets/base",
      "model_module_version": "2.0.0",
      "model_name": "LayoutModel",
      "state": {
       "margin": "0px 5px 0px 0px",
       "width": "32px"
      }
     },
     "0997e019462d4a2f856c9f881132e063": {
      "model_module": "@jupyter-widgets/base",
      "model_module_version": "2.0.0",
      "model_name": "LayoutModel",
      "state": {
       "width": "95px"
      }
     },
     "0abd7138220245c6a5e20032c955c460": {
      "model_module": "@jupyter-widgets/base",
      "model_module_version": "2.0.0",
      "model_name": "LayoutModel",
      "state": {
       "margin": "0px 0px 10px 0px"
      }
     },
     "0c885473bf834fbe9f3fd2d80345b84d": {
      "model_module": "@jupyter-widgets/controls",
      "model_module_version": "2.0.0",
      "model_name": "ButtonModel",
      "state": {
       "icon": "close",
       "layout": "IPY_MODEL_b37b8afd609a45449663503d2bf8ebbf",
       "style": "IPY_MODEL_80ebd7f8e7554f0b9f06598f84559692",
       "tooltip": null
      }
     },
     "109343f6a13a4abab9ff33d4e5fad2b1": {
      "model_module": "@jupyter-widgets/base",
      "model_module_version": "2.0.0",
      "model_name": "LayoutModel",
      "state": {
       "grid_template_areas": "\n                                       \". . . . right \"\n                                        ",
       "grid_template_columns": "20% 20% 20% 20% 20%",
       "width": "100%"
      }
     },
     "133c4111caf1448a9bea73da5a6d9955": {
      "model_module": "@jupyter-widgets/controls",
      "model_module_version": "2.0.0",
      "model_name": "HTMLModel",
      "state": {
       "layout": "IPY_MODEL_c27aa508a8a44ffda6062e386efb3db7",
       "style": "IPY_MODEL_6a337f47f36645f28ae3e2490aa615e6",
       "value": "<h5>Queue</h5>"
      }
     },
     "1a85d98af4564343afafe1217ec04d14": {
      "model_module": "@jupyter-widgets/controls",
      "model_module_version": "2.0.0",
      "model_name": "HTMLModel",
      "state": {
       "layout": "IPY_MODEL_c876cfaa7bea4a3dbea6a4098bc01b69",
       "style": "IPY_MODEL_35c116a385f5465890a878b41888dcf0",
       "value": "cio30t4t4v68ftavmm3g"
      }
     },
     "23914ea545c0415da6718effa37cb823": {
      "model_module": "@jupyter-widgets/controls",
      "model_module_version": "2.0.0",
      "model_name": "HTMLModel",
      "state": {
       "layout": "IPY_MODEL_05e2ae9cf4944e7f865dfa5472b5053b",
       "style": "IPY_MODEL_e69b82b703df4699b818f65f147e645e",
       "value": "<h5>Status</h5>"
      }
     },
     "2644414fcb6943419895f9ce3a373d8d": {
      "model_module": "@jupyter-widgets/base",
      "model_module_version": "2.0.0",
      "model_name": "LayoutModel",
      "state": {
       "max_width": "700px",
       "min_width": "700px"
      }
     },
     "2ccd47d7589a442a858fb9f5edc0b257": {
      "model_module": "@jupyter-widgets/controls",
      "model_module_version": "2.0.0",
      "model_name": "HTMLModel",
      "state": {
       "layout": "IPY_MODEL_52215eb175fe40c3b369a96f39ac02b6",
       "style": "IPY_MODEL_d1382b6a193e423d8e6b8a73184287ac",
       "value": "cio31gcb0ilk0b9om72g"
      }
     },
     "2f6c19fb2bf34aec9c525df3833dd5d6": {
      "model_module": "@jupyter-widgets/controls",
      "model_module_version": "2.0.0",
      "model_name": "ButtonModel",
      "state": {
       "button_style": "primary",
       "description": "Clear",
       "layout": "IPY_MODEL_7b462bda157240c38e02248d727362ad",
       "style": "IPY_MODEL_e48f62bdf5c54655bd9ed21ef35a88e8",
       "tooltip": null
      }
     },
     "35c116a385f5465890a878b41888dcf0": {
      "model_module": "@jupyter-widgets/controls",
      "model_module_version": "2.0.0",
      "model_name": "HTMLStyleModel",
      "state": {
       "description_width": "",
       "font_size": null,
       "text_color": null
      }
     },
     "3c96f4bd6bb74be295048e10199f0a34": {
      "model_module": "@jupyter-widgets/controls",
      "model_module_version": "2.0.0",
      "model_name": "HTMLModel",
      "state": {
       "layout": "IPY_MODEL_41879e0f65904ed5abbfcae7095711d5",
       "style": "IPY_MODEL_606b4066e379445889fdcbf20df3109f",
       "value": "<h5>Job ID</h5>"
      }
     },
     "41879e0f65904ed5abbfcae7095711d5": {
      "model_module": "@jupyter-widgets/base",
      "model_module_version": "2.0.0",
      "model_name": "LayoutModel",
      "state": {
       "width": "190px"
      }
     },
     "45fbba56272d42c986c052c739c3274a": {
      "model_module": "@jupyter-widgets/controls",
      "model_module_version": "2.0.0",
      "model_name": "HTMLStyleModel",
      "state": {
       "description_width": "",
       "font_size": null,
       "text_color": null
      }
     },
     "4a9cfa3e00cd41deb079a63fc5cd6564": {
      "model_module": "@jupyter-widgets/base",
      "model_module_version": "2.0.0",
      "model_name": "LayoutModel",
      "state": {
       "width": "145px"
      }
     },
     "501e62a9892943a88aa5d2405dcc6996": {
      "model_module": "@jupyter-widgets/controls",
      "model_module_version": "2.0.0",
      "model_name": "HTMLModel",
      "state": {
       "layout": "IPY_MODEL_f042c3a9172c4345a3e8466fc1234f04",
       "style": "IPY_MODEL_527c5fdd47ab4a46bfe797331d7c8b98",
       "value": "-"
      }
     },
     "52215eb175fe40c3b369a96f39ac02b6": {
      "model_module": "@jupyter-widgets/base",
      "model_module_version": "2.0.0",
      "model_name": "LayoutModel",
      "state": {
       "width": "190px"
      }
     },
     "527c5fdd47ab4a46bfe797331d7c8b98": {
      "model_module": "@jupyter-widgets/controls",
      "model_module_version": "2.0.0",
      "model_name": "HTMLStyleModel",
      "state": {
       "description_width": "",
       "font_size": null,
       "text_color": null
      }
     },
     "561e26c4ab574ecf887eb8d7d323422e": {
      "model_module": "@jupyter-widgets/controls",
      "model_module_version": "2.0.0",
      "model_name": "HBoxModel",
      "state": {
       "children": [
        "IPY_MODEL_3c96f4bd6bb74be295048e10199f0a34",
        "IPY_MODEL_659ce3dc4c534b42bb7ae0fec2db8801",
        "IPY_MODEL_23914ea545c0415da6718effa37cb823",
        "IPY_MODEL_133c4111caf1448a9bea73da5a6d9955",
        "IPY_MODEL_5f5b00ce15b5489b81194ab92338e0e9"
       ],
       "layout": "IPY_MODEL_fee2fa3477524360976499f7e28271f9"
      }
     },
     "5f5b00ce15b5489b81194ab92338e0e9": {
      "model_module": "@jupyter-widgets/controls",
      "model_module_version": "2.0.0",
      "model_name": "HTMLModel",
      "state": {
       "layout": "IPY_MODEL_7a02741bae9b426a9ed05a67670773b8",
       "style": "IPY_MODEL_8b92a5eafc4349bbb428f7e57252b52d",
       "value": "<h5>Message</h5>"
      }
     },
     "606b4066e379445889fdcbf20df3109f": {
      "model_module": "@jupyter-widgets/controls",
      "model_module_version": "2.0.0",
      "model_name": "HTMLStyleModel",
      "state": {
       "description_width": "",
       "font_size": null,
       "text_color": null
      }
     },
     "622b155943904b58a0ca860f68e474e8": {
      "model_module": "@jupyter-widgets/controls",
      "model_module_version": "2.0.0",
      "model_name": "HTMLStyleModel",
      "state": {
       "description_width": "",
       "font_size": null,
       "text_color": null
      }
     },
     "6376e3fc6e6449fbb559144aa4b6aeba": {
      "model_module": "@jupyter-widgets/controls",
      "model_module_version": "2.0.0",
      "model_name": "GridBoxModel",
      "state": {
       "children": [
        "IPY_MODEL_2f6c19fb2bf34aec9c525df3833dd5d6"
       ],
       "layout": "IPY_MODEL_109343f6a13a4abab9ff33d4e5fad2b1"
      }
     },
     "659ce3dc4c534b42bb7ae0fec2db8801": {
      "model_module": "@jupyter-widgets/controls",
      "model_module_version": "2.0.0",
      "model_name": "HTMLModel",
      "state": {
       "layout": "IPY_MODEL_a44bd28fff2c416dbe0030a3c908e71b",
       "style": "IPY_MODEL_8bacb9d876134158b7a309ed79f023fb",
       "value": "<h5>Backend</h5>"
      }
     },
     "6a337f47f36645f28ae3e2490aa615e6": {
      "model_module": "@jupyter-widgets/controls",
      "model_module_version": "2.0.0",
      "model_name": "HTMLStyleModel",
      "state": {
       "description_width": "",
       "font_size": null,
       "text_color": null
      }
     },
     "729b069ae9d24d45871c6b27318586fc": {
      "model_module": "@jupyter-widgets/controls",
      "model_module_version": "2.0.0",
      "model_name": "HTMLModel",
      "state": {
       "layout": "IPY_MODEL_a79dfd61baaf4b3c9ff0be63cf3b12ef",
       "style": "IPY_MODEL_8dcbd61b8c28437c82ab42f1879d3c38",
       "value": "<p style=white-space:nowrap;>job has successfully run</p>"
      }
     },
     "7349a49aea694e13aee01a654d4c15f0": {
      "model_module": "@jupyter-widgets/controls",
      "model_module_version": "2.0.0",
      "model_name": "HTMLModel",
      "state": {
       "layout": "IPY_MODEL_4a9cfa3e00cd41deb079a63fc5cd6564",
       "style": "IPY_MODEL_45fbba56272d42c986c052c739c3274a",
       "value": "ibmq_qasm_simulator"
      }
     },
     "74e45ab89afe4541b960068e68fa7f34": {
      "model_module": "@jupyter-widgets/controls",
      "model_module_version": "2.0.0",
      "model_name": "HTMLModel",
      "state": {
       "layout": "IPY_MODEL_f4d6178f107d4da999d3a338f46e119b",
       "style": "IPY_MODEL_9fcb57e191d6454b9206b666af9f2e71",
       "value": "ibmq_qasm_simulator"
      }
     },
     "7a02741bae9b426a9ed05a67670773b8": {
      "model_module": "@jupyter-widgets/base",
      "model_module_version": "2.0.0",
      "model_name": "LayoutModel",
      "state": {}
     },
     "7b462bda157240c38e02248d727362ad": {
      "model_module": "@jupyter-widgets/base",
      "model_module_version": "2.0.0",
      "model_name": "LayoutModel",
      "state": {
       "grid_area": "right",
       "padding": "0px 0px 0px 0px",
       "width": "70px"
      }
     },
     "7b744e8ce5ed4d3b9c0d5ed2a010ae34": {
      "model_module": "@jupyter-widgets/controls",
      "model_module_version": "2.0.0",
      "model_name": "HTMLModel",
      "state": {
       "layout": "IPY_MODEL_dea7dfdbd26143ba8b6c538ee5cfb5e3",
       "style": "IPY_MODEL_ecb9dc7ccbc846dda728e5fac1c03301",
       "value": "-"
      }
     },
     "80ebd7f8e7554f0b9f06598f84559692": {
      "model_module": "@jupyter-widgets/controls",
      "model_module_version": "2.0.0",
      "model_name": "ButtonStyleModel",
      "state": {
       "button_color": "white",
       "font_family": null,
       "font_size": null,
       "font_style": null,
       "font_variant": null,
       "font_weight": null,
       "text_color": null,
       "text_decoration": null
      }
     },
     "86c64d83e1a945d1afd28f7ecda3460f": {
      "model_module": "@jupyter-widgets/controls",
      "model_module_version": "2.0.0",
      "model_name": "HBoxModel",
      "state": {
       "children": [
        "IPY_MODEL_c4d27f2f1dcf44b6ba4459cf964b5280",
        "IPY_MODEL_1a85d98af4564343afafe1217ec04d14",
        "IPY_MODEL_74e45ab89afe4541b960068e68fa7f34",
        "IPY_MODEL_f5e87e2d9a6e4105ad14e02dfd3f90c4",
        "IPY_MODEL_7b744e8ce5ed4d3b9c0d5ed2a010ae34",
        "IPY_MODEL_d79c392410624c5984d9b60e750c0a32"
       ],
       "layout": "IPY_MODEL_ccdd254860694104ad63a3bc75a857eb"
      }
     },
     "8b92a5eafc4349bbb428f7e57252b52d": {
      "model_module": "@jupyter-widgets/controls",
      "model_module_version": "2.0.0",
      "model_name": "HTMLStyleModel",
      "state": {
       "description_width": "",
       "font_size": null,
       "text_color": null
      }
     },
     "8bacb9d876134158b7a309ed79f023fb": {
      "model_module": "@jupyter-widgets/controls",
      "model_module_version": "2.0.0",
      "model_name": "HTMLStyleModel",
      "state": {
       "description_width": "",
       "font_size": null,
       "text_color": null
      }
     },
     "8dcbd61b8c28437c82ab42f1879d3c38": {
      "model_module": "@jupyter-widgets/controls",
      "model_module_version": "2.0.0",
      "model_name": "HTMLStyleModel",
      "state": {
       "description_width": "",
       "font_size": null,
       "text_color": null
      }
     },
     "97a4c0e06c5c4c70acc03c714fea5b6e": {
      "model_module": "@jupyter-widgets/controls",
      "model_module_version": "2.0.0",
      "model_name": "HBoxModel",
      "state": {
       "children": [
        "IPY_MODEL_0c885473bf834fbe9f3fd2d80345b84d",
        "IPY_MODEL_2ccd47d7589a442a858fb9f5edc0b257",
        "IPY_MODEL_7349a49aea694e13aee01a654d4c15f0",
        "IPY_MODEL_e83d746c816b47fd981d32a97a17c966",
        "IPY_MODEL_501e62a9892943a88aa5d2405dcc6996",
        "IPY_MODEL_729b069ae9d24d45871c6b27318586fc"
       ],
       "layout": "IPY_MODEL_2644414fcb6943419895f9ce3a373d8d"
      }
     },
     "9d5d49769be042abae9bc9970cd0d42a": {
      "model_module": "@jupyter-widgets/controls",
      "model_module_version": "2.0.0",
      "model_name": "HTMLStyleModel",
      "state": {
       "description_width": "",
       "font_size": null,
       "text_color": null
      }
     },
     "9fcb57e191d6454b9206b666af9f2e71": {
      "model_module": "@jupyter-widgets/controls",
      "model_module_version": "2.0.0",
      "model_name": "HTMLStyleModel",
      "state": {
       "description_width": "",
       "font_size": null,
       "text_color": null
      }
     },
     "a44bd28fff2c416dbe0030a3c908e71b": {
      "model_module": "@jupyter-widgets/base",
      "model_module_version": "2.0.0",
      "model_name": "LayoutModel",
      "state": {
       "width": "145px"
      }
     },
     "a79dfd61baaf4b3c9ff0be63cf3b12ef": {
      "model_module": "@jupyter-widgets/base",
      "model_module_version": "2.0.0",
      "model_name": "LayoutModel",
      "state": {}
     },
     "b37b8afd609a45449663503d2bf8ebbf": {
      "model_module": "@jupyter-widgets/base",
      "model_module_version": "2.0.0",
      "model_name": "LayoutModel",
      "state": {
       "margin": "0px 5px 0px 0px",
       "width": "32px"
      }
     },
     "b3e89fef83484adeb8497cffdd8d5aaa": {
      "model_module": "@jupyter-widgets/base",
      "model_module_version": "2.0.0",
      "model_name": "LayoutModel",
      "state": {
       "width": "95px"
      }
     },
     "b8a71a815207441baa3be24e0a8f6f6a": {
      "model_module": "@jupyter-widgets/base",
      "model_module_version": "2.0.0",
      "model_name": "LayoutModel",
      "state": {}
     },
     "bd0256d9a9c34d8e9903ea16bbd1b1d4": {
      "model_module": "@jupyter-widgets/controls",
      "model_module_version": "2.0.0",
      "model_name": "HTMLModel",
      "state": {
       "layout": "IPY_MODEL_0abd7138220245c6a5e20032c955c460",
       "style": "IPY_MODEL_d88b373c5e3e4f008271a80c5799decd",
       "value": "<p style='font-family: IBM Plex Sans, Arial, Helvetica, sans-serif; font-size: 20px; font-weight: medium;'>Circuit Properties</p>"
      }
     },
     "c27aa508a8a44ffda6062e386efb3db7": {
      "model_module": "@jupyter-widgets/base",
      "model_module_version": "2.0.0",
      "model_name": "LayoutModel",
      "state": {
       "width": "70px"
      }
     },
     "c4d27f2f1dcf44b6ba4459cf964b5280": {
      "model_module": "@jupyter-widgets/controls",
      "model_module_version": "2.0.0",
      "model_name": "ButtonModel",
      "state": {
       "icon": "close",
       "layout": "IPY_MODEL_07b9dc841655456db6f0ed7737b0fa92",
       "style": "IPY_MODEL_c776b896f7c243a6b227800cdcbd4600",
       "tooltip": null
      }
     },
     "c776b896f7c243a6b227800cdcbd4600": {
      "model_module": "@jupyter-widgets/controls",
      "model_module_version": "2.0.0",
      "model_name": "ButtonStyleModel",
      "state": {
       "button_color": "white",
       "font_family": null,
       "font_size": null,
       "font_style": null,
       "font_variant": null,
       "font_weight": null,
       "text_color": null,
       "text_decoration": null
      }
     },
     "c876cfaa7bea4a3dbea6a4098bc01b69": {
      "model_module": "@jupyter-widgets/base",
      "model_module_version": "2.0.0",
      "model_name": "LayoutModel",
      "state": {
       "width": "190px"
      }
     },
     "ccdd254860694104ad63a3bc75a857eb": {
      "model_module": "@jupyter-widgets/base",
      "model_module_version": "2.0.0",
      "model_name": "LayoutModel",
      "state": {
       "max_width": "700px",
       "min_width": "700px"
      }
     },
     "d1382b6a193e423d8e6b8a73184287ac": {
      "model_module": "@jupyter-widgets/controls",
      "model_module_version": "2.0.0",
      "model_name": "HTMLStyleModel",
      "state": {
       "description_width": "",
       "font_size": null,
       "text_color": null
      }
     },
     "d79c392410624c5984d9b60e750c0a32": {
      "model_module": "@jupyter-widgets/controls",
      "model_module_version": "2.0.0",
      "model_name": "HTMLModel",
      "state": {
       "layout": "IPY_MODEL_b8a71a815207441baa3be24e0a8f6f6a",
       "style": "IPY_MODEL_fef0037dd2ee4e60ba15fe3c6363fe4a",
       "value": "<p style=white-space:nowrap;>job has successfully run</p>"
      }
     },
     "d88b373c5e3e4f008271a80c5799decd": {
      "model_module": "@jupyter-widgets/controls",
      "model_module_version": "2.0.0",
      "model_name": "HTMLStyleModel",
      "state": {
       "description_width": "",
       "font_size": null,
       "text_color": null
      }
     },
     "dea7dfdbd26143ba8b6c538ee5cfb5e3": {
      "model_module": "@jupyter-widgets/base",
      "model_module_version": "2.0.0",
      "model_name": "LayoutModel",
      "state": {
       "width": "70px"
      }
     },
     "e48f62bdf5c54655bd9ed21ef35a88e8": {
      "model_module": "@jupyter-widgets/controls",
      "model_module_version": "2.0.0",
      "model_name": "ButtonStyleModel",
      "state": {
       "font_family": null,
       "font_size": null,
       "font_style": null,
       "font_variant": null,
       "font_weight": null,
       "text_color": null,
       "text_decoration": null
      }
     },
     "e69b82b703df4699b818f65f147e645e": {
      "model_module": "@jupyter-widgets/controls",
      "model_module_version": "2.0.0",
      "model_name": "HTMLStyleModel",
      "state": {
       "description_width": "",
       "font_size": null,
       "text_color": null
      }
     },
     "e83d746c816b47fd981d32a97a17c966": {
      "model_module": "@jupyter-widgets/controls",
      "model_module_version": "2.0.0",
      "model_name": "HTMLModel",
      "state": {
       "layout": "IPY_MODEL_b3e89fef83484adeb8497cffdd8d5aaa",
       "style": "IPY_MODEL_9d5d49769be042abae9bc9970cd0d42a",
       "value": "DONE"
      }
     },
     "ecb9dc7ccbc846dda728e5fac1c03301": {
      "model_module": "@jupyter-widgets/controls",
      "model_module_version": "2.0.0",
      "model_name": "HTMLStyleModel",
      "state": {
       "description_width": "",
       "font_size": null,
       "text_color": null
      }
     },
     "f042c3a9172c4345a3e8466fc1234f04": {
      "model_module": "@jupyter-widgets/base",
      "model_module_version": "2.0.0",
      "model_name": "LayoutModel",
      "state": {
       "width": "70px"
      }
     },
     "f4d6178f107d4da999d3a338f46e119b": {
      "model_module": "@jupyter-widgets/base",
      "model_module_version": "2.0.0",
      "model_name": "LayoutModel",
      "state": {
       "width": "145px"
      }
     },
     "f5e87e2d9a6e4105ad14e02dfd3f90c4": {
      "model_module": "@jupyter-widgets/controls",
      "model_module_version": "2.0.0",
      "model_name": "HTMLModel",
      "state": {
       "layout": "IPY_MODEL_0997e019462d4a2f856c9f881132e063",
       "style": "IPY_MODEL_622b155943904b58a0ca860f68e474e8",
       "value": "DONE"
      }
     },
     "fee2fa3477524360976499f7e28271f9": {
      "model_module": "@jupyter-widgets/base",
      "model_module_version": "2.0.0",
      "model_name": "LayoutModel",
      "state": {
       "margin": "0px 0px 0px 37px",
       "width": "600px"
      }
     },
     "fef0037dd2ee4e60ba15fe3c6363fe4a": {
      "model_module": "@jupyter-widgets/controls",
      "model_module_version": "2.0.0",
      "model_name": "HTMLStyleModel",
      "state": {
       "description_width": "",
       "font_size": null,
       "text_color": null
      }
     }
    },
    "version_major": 2,
    "version_minor": 0
   }
  }
 },
 "nbformat": 4,
 "nbformat_minor": 5
}
